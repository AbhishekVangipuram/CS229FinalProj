{
 "cells": [
  {
   "cell_type": "code",
   "execution_count": 38,
   "metadata": {},
   "outputs": [],
   "source": [
    "import util\n",
    "import pandas as pd\n",
    "import numpy as np\n",
    "from PIL import Image\n",
    "from tqdm import tqdm\n",
    "import cv2\n",
    "import matplotlib.pyplot as plt\n",
    "import tensorflow as tf\n",
    "from tensorflow.keras import layers, models\n",
    "from tensorflow.keras.models import Sequential\n",
    "from tensorflow.keras.layers import Dense, GlobalAveragePooling2D\n",
    "from tensorflow.keras.applications import ResNet152\n",
    "from tensorflow.keras.optimizers import Adam\n",
    "from sklearn.utils.class_weight import compute_class_weight"
   ]
  },
  {
   "cell_type": "code",
   "execution_count": 39,
   "metadata": {},
   "outputs": [
    {
     "name": "stderr",
     "output_type": "stream",
     "text": [
      "7301it [00:09, 779.25it/s] \n"
     ]
    }
   ],
   "source": [
    "y, train, val, test = util.get_labels_and_split_augmented() # Can use anything here\n",
    "\n",
    "y_train, y_val, y_test = y[train], y[val], y[test]\n",
    "\n",
    "y_keep = y_train\n",
    "\n",
    "y_train = tf.one_hot(y_train, depth=8)\n",
    "y_val   = tf.one_hot(y_val,   depth=8)\n",
    "y_test  = tf.one_hot(y_test,  depth=8)\n",
    "\n",
    "low_res = util.get_low_res_augmented() # Match abvoe\n",
    "# low_res = np.load('low_res.npy')\n",
    "\n",
    "# low_res.reshape(low_res.shape[0], -1)\n",
    "\n",
    "X_train = low_res[train]\n",
    "X_val = low_res[val]\n",
    "X_test = low_res[test]"
   ]
  },
  {
   "cell_type": "code",
   "execution_count": 40,
   "metadata": {},
   "outputs": [
    {
     "name": "stderr",
     "output_type": "stream",
     "text": [
      "100%|██████████| 5867/5867 [00:01<00:00, 5401.70it/s]\n",
      "100%|██████████| 730/730 [00:00<00:00, 5536.50it/s]\n",
      "100%|██████████| 704/704 [00:00<00:00, 5571.11it/s]\n"
     ]
    }
   ],
   "source": [
    "edge_count_train = []\n",
    "\n",
    "for i in tqdm(range(X_train.shape[0])):\n",
    "    gray_image = cv2.cvtColor(X_train[i,:,:,:], cv2.COLOR_BGR2GRAY)\n",
    "    blurred = cv2.GaussianBlur(gray_image, (1, 1), 0)\n",
    "    edges = cv2.Canny(blurred, 10, 20)\n",
    "    edge_count_train.append(edges.sum())\n",
    "\n",
    "edge_count_train = np.array(edge_count_train)\n",
    "\n",
    "edge_count_val = []\n",
    "\n",
    "for i in tqdm(range(X_val.shape[0])):\n",
    "    gray_image = cv2.cvtColor(X_val[i,:,:,:], cv2.COLOR_BGR2GRAY)\n",
    "    blurred = cv2.GaussianBlur(gray_image, (1, 1), 0)\n",
    "    edges = cv2.Canny(blurred, 10, 20)\n",
    "    edge_count_val.append(edges.sum())\n",
    "\n",
    "edge_count_val = np.array(edge_count_val)\n",
    "\n",
    "edge_count_test = []\n",
    "\n",
    "for i in tqdm(range(X_test.shape[0])):\n",
    "    gray_image = cv2.cvtColor(X_test[i,:,:,:], cv2.COLOR_BGR2GRAY)\n",
    "    blurred = cv2.GaussianBlur(gray_image, (1, 1), 0)\n",
    "    edges = cv2.Canny(blurred, 10, 20)\n",
    "    edge_count_test.append(edges.sum())\n",
    "\n",
    "edge_count_test = np.array(edge_count_test)"
   ]
  },
  {
   "cell_type": "code",
   "execution_count": 41,
   "metadata": {},
   "outputs": [],
   "source": [
    "\n",
    "X_train_edge = X_train[edge_count_train > 800000]\n",
    "y_train_edge = y_train[edge_count_train > 800000]\n",
    "X_val_edge = X_val[edge_count_val > 800000]\n",
    "y_val_edge = y_val[edge_count_val > 800000]\n",
    "X_test_edge = X_test[edge_count_test > 800000]\n",
    "y_test_edge = y_test[edge_count_test > 800000]"
   ]
  },
  {
   "cell_type": "code",
   "execution_count": 42,
   "metadata": {},
   "outputs": [
    {
     "name": "stderr",
     "output_type": "stream",
     "text": [
      "WARNING:absl:At this time, the v2.11+ optimizer `tf.keras.optimizers.Adam` runs slowly on M1/M2 Macs, please use the legacy Keras optimizer instead, located at `tf.keras.optimizers.legacy.Adam`.\n",
      "WARNING:absl:`lr` is deprecated in Keras optimizer, please use `learning_rate` or use the legacy optimizer, e.g.,tf.keras.optimizers.legacy.Adam.\n",
      "WARNING:absl:There is a known slowdown when using v2.11+ Keras optimizers on M1/M2 Macs. Falling back to the legacy Keras optimizer, i.e., `tf.keras.optimizers.legacy.Adam`.\n",
      "WARNING:absl:At this time, the v2.11+ optimizer `tf.keras.optimizers.Adam` runs slowly on M1/M2 Macs, please use the legacy Keras optimizer instead, located at `tf.keras.optimizers.legacy.Adam`.\n",
      "WARNING:absl:`lr` is deprecated in Keras optimizer, please use `learning_rate` or use the legacy optimizer, e.g.,tf.keras.optimizers.legacy.Adam.\n",
      "WARNING:absl:There is a known slowdown when using v2.11+ Keras optimizers on M1/M2 Macs. Falling back to the legacy Keras optimizer, i.e., `tf.keras.optimizers.legacy.Adam`.\n"
     ]
    }
   ],
   "source": [
    "base_model = ResNet152(weights='imagenet', include_top=False, input_shape=(147, 147, 3))\n",
    "\n",
    "# Freeze the pre-trained layers\n",
    "for layer in base_model.layers:\n",
    "    layer.trainable = False\n",
    "\n",
    "model = models.Sequential()\n",
    "model.add(base_model)\n",
    "model.add(layers.GlobalAveragePooling2D())\n",
    "model.add(layers.Dense(256, activation='relu'))\n",
    "model.add(layers.Dropout(0.5))\n",
    "model.add(layers.Dense(8, activation='softmax'))\n",
    "\n",
    "model.compile(optimizer=Adam(lr=0.001),\n",
    "              loss='categorical_crossentropy',\n",
    "              metrics=['accuracy'])\n",
    "\n",
    "# Compile the model\n",
    "model.compile(optimizer=Adam(lr=0.001), loss='categorical_crossentropy', metrics=['accuracy'])"
   ]
  },
  {
   "cell_type": "code",
   "execution_count": 51,
   "metadata": {},
   "outputs": [
    {
     "name": "stdout",
     "output_type": "stream",
     "text": [
      "Epoch 1/3\n",
      "81/81 [==============================] - 135s 2s/step - loss: 1.2912 - accuracy: 0.5792 - val_loss: 1.2327 - val_accuracy: 0.5831\n",
      "Epoch 2/3\n",
      "81/81 [==============================] - 145s 2s/step - loss: 1.2308 - accuracy: 0.5964 - val_loss: 1.2453 - val_accuracy: 0.5896\n",
      "Epoch 3/3\n",
      "81/81 [==============================] - 143s 2s/step - loss: 1.1744 - accuracy: 0.6085 - val_loss: 1.2125 - val_accuracy: 0.5896\n"
     ]
    }
   ],
   "source": [
    "history = model.fit(X_train_edge, y_train_edge, validation_data=(X_val_edge, y_val_edge), epochs=3, batch_size=32)"
   ]
  },
  {
   "cell_type": "code",
   "execution_count": 52,
   "metadata": {},
   "outputs": [
    {
     "name": "stdout",
     "output_type": "stream",
     "text": [
      "10/10 [==============================] - 14s 1s/step - loss: 1.2125 - accuracy: 0.5896\n"
     ]
    }
   ],
   "source": [
    "\n",
    "val_loss_edge, val_accuracy_edge = model.evaluate(X_val_edge, y_val_edge)"
   ]
  },
  {
   "cell_type": "code",
   "execution_count": 58,
   "metadata": {},
   "outputs": [
    {
     "name": "stdout",
     "output_type": "stream",
     "text": [
      "val acc: 0.6735751256732743\n"
     ]
    }
   ],
   "source": [
    "edge_acc = np.array(y_val[edge_count_val < 800000] == 1).mean() * 8\n",
    "small = y_val[edge_count_val < 800000].shape[0]\n",
    "big = y_val[edge_count_val >= 800000].shape[0]\n",
    "val_accuracy = val_accuracy_edge * big / (small + big) + edge_acc * small / (small + big)\n",
    "\n",
    "print(\"val acc: \" + str(val_accuracy))"
   ]
  },
  {
   "cell_type": "code",
   "execution_count": 54,
   "metadata": {},
   "outputs": [
    {
     "data": {
      "text/plain": [
       "<tf.Tensor: shape=(551, 8), dtype=float32, numpy=\n",
       "array([[0., 1., 0., ..., 0., 0., 0.],\n",
       "       [0., 1., 0., ..., 0., 0., 0.],\n",
       "       [0., 1., 0., ..., 0., 0., 0.],\n",
       "       ...,\n",
       "       [0., 1., 0., ..., 0., 0., 0.],\n",
       "       [0., 1., 0., ..., 0., 0., 0.],\n",
       "       [0., 1., 0., ..., 0., 0., 0.]], dtype=float32)>"
      ]
     },
     "execution_count": 54,
     "metadata": {},
     "output_type": "execute_result"
    }
   ],
   "source": [
    "y_train[edge_count_train < 800000]"
   ]
  },
  {
   "cell_type": "code",
   "execution_count": 55,
   "metadata": {},
   "outputs": [
    {
     "data": {
      "image/png": "[encoded data removed]",
      "text/plain": [
       "<Figure size 1000x500 with 1 Axes>"
      ]
     },
     "metadata": {},
     "output_type": "display_data"
    }
   ],
   "source": [
    "\n",
    "# test_loss, test_accuracy = cnn.evaluate(X_test, y_test)\n",
    "\n",
    "# print(\"test acc: \" + str(test_accuracy))\n",
    "\n",
    "# cnn.save('low_cnn.keras')\n",
    "\n",
    "training_loss = history.history[\"accuracy\"]\n",
    "validation_loss = history.history[\"val_accuracy\"]\n",
    "\n",
    "plt.figure(figsize=(10,5))\n",
    "plt.plot(training_loss, label=\"Training Accuracy\")\n",
    "plt.plot(validation_loss, label=\"Validation Accuracy\")\n",
    "plt.title(\"Training and Validation Accuracy\")\n",
    "plt.xlabel(\"Epoch\")\n",
    "plt.ylabel(\"Accuracy\")\n",
    "plt.legend()\n",
    "plt.show()\n",
    "\n"
   ]
  },
  {
   "cell_type": "code",
   "execution_count": 56,
   "metadata": {},
   "outputs": [
    {
     "name": "stderr",
     "output_type": "stream",
     "text": [
      "3889it [00:04, 843.79it/s]\n",
      "100%|██████████| 3113/3113 [00:00<00:00, 5320.38it/s]\n",
      "100%|██████████| 386/386 [00:00<00:00, 5966.07it/s]\n",
      "100%|██████████| 390/390 [00:00<00:00, 6150.65it/s]\n"
     ]
    }
   ],
   "source": [
    "y, train, val, test = util.get_labels_and_split()\n",
    "\n",
    "y_train, y_val, y_test = y[train], y[val], y[test]\n",
    "\n",
    "y_train = tf.one_hot(y_train, depth=8)\n",
    "y_val   = tf.one_hot(y_val,   depth=8)\n",
    "y_test  = tf.one_hot(y_test,  depth=8)\n",
    "\n",
    "low_res = util.get_low_res()\n",
    "# low_res = np.load('low_res.npy')\n",
    "\n",
    "# low_res.reshape(low_res.shape[0], -1)\n",
    "\n",
    "X_train = low_res[train]\n",
    "X_val = low_res[val]\n",
    "X_test = low_res[test]\n",
    "\n",
    "edge_count_train = []\n",
    "\n",
    "for i in tqdm(range(X_train.shape[0])):\n",
    "    gray_image = cv2.cvtColor(X_train[i,:,:,:], cv2.COLOR_BGR2GRAY)\n",
    "    blurred = cv2.GaussianBlur(gray_image, (1, 1), 0)\n",
    "    edges = cv2.Canny(blurred, 10, 20)\n",
    "    edge_count_train.append(edges.sum())\n",
    "\n",
    "edge_count_train = np.array(edge_count_train)\n",
    "\n",
    "edge_count_val = []\n",
    "\n",
    "for i in tqdm(range(X_val.shape[0])):\n",
    "    gray_image = cv2.cvtColor(X_val[i,:,:,:], cv2.COLOR_BGR2GRAY)\n",
    "    blurred = cv2.GaussianBlur(gray_image, (1, 1), 0)\n",
    "    edges = cv2.Canny(blurred, 10, 20)\n",
    "    edge_count_val.append(edges.sum())\n",
    "\n",
    "edge_count_val = np.array(edge_count_val)\n",
    "\n",
    "edge_count_test = []\n",
    "\n",
    "for i in tqdm(range(X_test.shape[0])):\n",
    "    gray_image = cv2.cvtColor(X_test[i,:,:,:], cv2.COLOR_BGR2GRAY)\n",
    "    blurred = cv2.GaussianBlur(gray_image, (1, 1), 0)\n",
    "    edges = cv2.Canny(blurred, 10, 20)\n",
    "    edge_count_test.append(edges.sum())\n",
    "\n",
    "edge_count_test = np.array(edge_count_test)\n",
    "\n",
    "X_train_edge = X_train[edge_count_train > 800000]\n",
    "y_train_edge = y_train[edge_count_train > 800000]\n",
    "X_val_edge = X_val[edge_count_val > 800000]\n",
    "y_val_edge = y_val[edge_count_val > 800000]\n",
    "X_test_edge = X_test[edge_count_test > 800000]\n",
    "y_test_edge = y_test[edge_count_test > 800000]"
   ]
  },
  {
   "cell_type": "code",
   "execution_count": 57,
   "metadata": {},
   "outputs": [
    {
     "name": "stdout",
     "output_type": "stream",
     "text": [
      "10/10 [==============================] - 17s 2s/step - loss: 1.2125 - accuracy: 0.5896\n",
      "unaugmented val acc: 0.6735751256732743\n",
      "10/10 [==============================] - 17s 2s/step - loss: 1.2585 - accuracy: 0.5863\n",
      "unaugmented test acc: 0.6743589664116884\n"
     ]
    }
   ],
   "source": [
    "val_loss_edge, val_accuracy_edge = model.evaluate(X_val_edge, y_val_edge)\n",
    "\n",
    "edge_acc = np.array(y_val[edge_count_val < 800000] == 1).mean() * 8\n",
    "small = y_val[edge_count_val < 800000].shape[0]\n",
    "big = y_val[edge_count_val >= 800000].shape[0]\n",
    "val_accuracy = val_accuracy_edge * big / (small + big) + edge_acc * small / (small + big)\n",
    "\n",
    "print(\"unaugmented val acc: \" + str(val_accuracy))\n",
    "\n",
    "test_loss_edge, test_accuracy_edge = model.evaluate(X_test_edge, y_test_edge)\n",
    "\n",
    "edge_acc = np.array(y_test[edge_count_test < 800000] == 1).mean() * 8\n",
    "small = y_test[edge_count_test < 800000].shape[0]\n",
    "big = y_test[edge_count_test >= 800000].shape[0]\n",
    "test_accuracy = test_accuracy_edge * big / (small + big) + edge_acc * small / (small + big)\n",
    "\n",
    "print(\"unaugmented test acc: \" + str(test_accuracy))"
   ]
  }
 ],
 "metadata": {
  "kernelspec": {
   "display_name": "cs229",
   "language": "python",
   "name": "python3"
  },
  "language_info": {
   "codemirror_mode": {
    "name": "ipython",
    "version": 3
   },
   "file_extension": ".py",
   "mimetype": "text/x-python",
   "name": "python",
   "nbconvert_exporter": "python",
   "pygments_lexer": "ipython3",
   "version": "3.9.15"
  }
 },
 "nbformat": 4,
 "nbformat_minor": 2
}

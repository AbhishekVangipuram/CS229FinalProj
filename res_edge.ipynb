{
 "cells": [
  {
   "cell_type": "code",
   "execution_count": 38,
   "metadata": {},
   "outputs": [],
   "source": [
    "import util\n",
    "import pandas as pd\n",
    "import numpy as np\n",
    "from PIL import Image\n",
    "from tqdm import tqdm\n",
    "import cv2\n",
    "import matplotlib.pyplot as plt\n",
    "import tensorflow as tf\n",
    "from tensorflow.keras import layers, models\n",
    "from tensorflow.keras.models import Sequential\n",
    "from tensorflow.keras.layers import Dense, GlobalAveragePooling2D\n",
    "from tensorflow.keras.applications import ResNet152\n",
    "from tensorflow.keras.optimizers import Adam\n",
    "from sklearn.utils.class_weight import compute_class_weight"
   ]
  },
  {
   "cell_type": "code",
   "execution_count": 39,
   "metadata": {},
   "outputs": [
    {
     "name": "stderr",
     "output_type": "stream",
     "text": [
      "7301it [00:09, 779.25it/s] \n"
     ]
    }
   ],
   "source": [
    "y, train, val, test = util.get_labels_and_split_augmented() # Can use anything here\n",
    "\n",
    "y_train, y_val, y_test = y[train], y[val], y[test]\n",
    "\n",
    "y_keep = y_train\n",
    "\n",
    "y_train = tf.one_hot(y_train, depth=8)\n",
    "y_val   = tf.one_hot(y_val,   depth=8)\n",
    "y_test  = tf.one_hot(y_test,  depth=8)\n",
    "\n",
    "low_res = util.get_low_res_augmented() # Match abvoe\n",
    "# low_res = np.load('low_res.npy')\n",
    "\n",
    "# low_res.reshape(low_res.shape[0], -1)\n",
    "\n",
    "X_train = low_res[train]\n",
    "X_val = low_res[val]\n",
    "X_test = low_res[test]"
   ]
  },
  {
   "cell_type": "code",
   "execution_count": 40,
   "metadata": {},
   "outputs": [
    {
     "name": "stderr",
     "output_type": "stream",
     "text": [
      "100%|██████████| 5867/5867 [00:01<00:00, 5401.70it/s]\n",
      "100%|██████████| 730/730 [00:00<00:00, 5536.50it/s]\n",
      "100%|██████████| 704/704 [00:00<00:00, 5571.11it/s]\n"
     ]
    }
   ],
   "source": [
    "edge_count_train = []\n",
    "\n",
    "for i in tqdm(range(X_train.shape[0])):\n",
    "    gray_image = cv2.cvtColor(X_train[i,:,:,:], cv2.COLOR_BGR2GRAY)\n",
    "    blurred = cv2.GaussianBlur(gray_image, (1, 1), 0)\n",
    "    edges = cv2.Canny(blurred, 10, 20)\n",
    "    edge_count_train.append(edges.sum())\n",
    "\n",
    "edge_count_train = np.array(edge_count_train)\n",
    "\n",
    "edge_count_val = []\n",
    "\n",
    "for i in tqdm(range(X_val.shape[0])):\n",
    "    gray_image = cv2.cvtColor(X_val[i,:,:,:], cv2.COLOR_BGR2GRAY)\n",
    "    blurred = cv2.GaussianBlur(gray_image, (1, 1), 0)\n",
    "    edges = cv2.Canny(blurred, 10, 20)\n",
    "    edge_count_val.append(edges.sum())\n",
    "\n",
    "edge_count_val = np.array(edge_count_val)\n",
    "\n",
    "edge_count_test = []\n",
    "\n",
    "for i in tqdm(range(X_test.shape[0])):\n",
    "    gray_image = cv2.cvtColor(X_test[i,:,:,:], cv2.COLOR_BGR2GRAY)\n",
    "    blurred = cv2.GaussianBlur(gray_image, (1, 1), 0)\n",
    "    edges = cv2.Canny(blurred, 10, 20)\n",
    "    edge_count_test.append(edges.sum())\n",
    "\n",
    "edge_count_test = np.array(edge_count_test)"
   ]
  },
  {
   "cell_type": "code",
   "execution_count": 41,
   "metadata": {},
   "outputs": [],
   "source": [
    "\n",
    "X_train_edge = X_train[edge_count_train > 800000]\n",
    "y_train_edge = y_train[edge_count_train > 800000]\n",
    "X_val_edge = X_val[edge_count_val > 800000]\n",
    "y_val_edge = y_val[edge_count_val > 800000]\n",
    "X_test_edge = X_test[edge_count_test > 800000]\n",
    "y_test_edge = y_test[edge_count_test > 800000]"
   ]
  },
  {
   "cell_type": "code",
   "execution_count": 42,
   "metadata": {},
   "outputs": [
    {
     "name": "stderr",
     "output_type": "stream",
     "text": [
      "WARNING:absl:At this time, the v2.11+ optimizer `tf.keras.optimizers.Adam` runs slowly on M1/M2 Macs, please use the legacy Keras optimizer instead, located at `tf.keras.optimizers.legacy.Adam`.\n",
      "WARNING:absl:`lr` is deprecated in Keras optimizer, please use `learning_rate` or use the legacy optimizer, e.g.,tf.keras.optimizers.legacy.Adam.\n",
      "WARNING:absl:There is a known slowdown when using v2.11+ Keras optimizers on M1/M2 Macs. Falling back to the legacy Keras optimizer, i.e., `tf.keras.optimizers.legacy.Adam`.\n",
      "WARNING:absl:At this time, the v2.11+ optimizer `tf.keras.optimizers.Adam` runs slowly on M1/M2 Macs, please use the legacy Keras optimizer instead, located at `tf.keras.optimizers.legacy.Adam`.\n",
      "WARNING:absl:`lr` is deprecated in Keras optimizer, please use `learning_rate` or use the legacy optimizer, e.g.,tf.keras.optimizers.legacy.Adam.\n",
      "WARNING:absl:There is a known slowdown when using v2.11+ Keras optimizers on M1/M2 Macs. Falling back to the legacy Keras optimizer, i.e., `tf.keras.optimizers.legacy.Adam`.\n"
     ]
    }
   ],
   "source": [
    "base_model = ResNet152(weights='imagenet', include_top=False, input_shape=(147, 147, 3))\n",
    "\n",
    "# Freeze the pre-trained layers\n",
    "for layer in base_model.layers:\n",
    "    layer.trainable = False\n",
    "\n",
    "model = models.Sequential()\n",
    "model.add(base_model)\n",
    "model.add(layers.GlobalAveragePooling2D())\n",
    "model.add(layers.Dense(256, activation='relu'))\n",
    "model.add(layers.Dropout(0.5))\n",
    "model.add(layers.Dense(8, activation='softmax'))\n",
    "\n",
    "model.compile(optimizer=Adam(lr=0.001),\n",
    "              loss='categorical_crossentropy',\n",
    "              metrics=['accuracy'])\n",
    "\n",
    "# Compile the model\n",
    "model.compile(optimizer=Adam(lr=0.001), loss='categorical_crossentropy', metrics=['accuracy'])"
   ]
  },
  {
   "cell_type": "code",
   "execution_count": 59,
   "metadata": {},
   "outputs": [
    {
     "name": "stdout",
     "output_type": "stream",
     "text": [
      "Epoch 1/10\n",
      "81/81 [==============================] - 105s 1s/step - loss: 1.1568 - accuracy: 0.6136 - val_loss: 1.2002 - val_accuracy: 0.5928\n",
      "Epoch 2/10\n",
      "81/81 [==============================] - 112s 1s/step - loss: 1.1112 - accuracy: 0.6249 - val_loss: 1.2059 - val_accuracy: 0.5831\n",
      "Epoch 3/10\n",
      "81/81 [==============================] - 111s 1s/step - loss: 1.0514 - accuracy: 0.6323 - val_loss: 1.2213 - val_accuracy: 0.6059\n",
      "Epoch 4/10\n",
      "81/81 [==============================] - 117s 1s/step - loss: 1.0091 - accuracy: 0.6432 - val_loss: 1.1989 - val_accuracy: 0.5928\n",
      "Epoch 5/10\n",
      "81/81 [==============================] - 113s 1s/step - loss: 0.9708 - accuracy: 0.6647 - val_loss: 1.1879 - val_accuracy: 0.5961\n",
      "Epoch 6/10\n",
      "81/81 [==============================] - 119s 1s/step - loss: 0.9520 - accuracy: 0.6659 - val_loss: 1.2383 - val_accuracy: 0.6026\n",
      "Epoch 7/10\n",
      "81/81 [==============================] - 120s 1s/step - loss: 0.9347 - accuracy: 0.6682 - val_loss: 1.2405 - val_accuracy: 0.5928\n",
      "Epoch 8/10\n",
      "81/81 [==============================] - 122s 2s/step - loss: 0.9028 - accuracy: 0.6850 - val_loss: 1.2679 - val_accuracy: 0.6124\n",
      "Epoch 9/10\n",
      "81/81 [==============================] - 131s 2s/step - loss: 0.8612 - accuracy: 0.6866 - val_loss: 1.2293 - val_accuracy: 0.5863\n",
      "Epoch 10/10\n",
      "81/81 [==============================] - 129s 2s/step - loss: 0.8610 - accuracy: 0.6866 - val_loss: 1.2488 - val_accuracy: 0.5896\n"
     ]
    }
   ],
   "source": [
    "history = model.fit(X_train_edge, y_train_edge, validation_data=(X_val_edge, y_val_edge), epochs=10, batch_size=32)"
   ]
  },
  {
   "cell_type": "code",
   "execution_count": 60,
   "metadata": {},
   "outputs": [
    {
     "name": "stdout",
     "output_type": "stream",
     "text": [
      "10/10 [==============================] - 12s 1s/step - loss: 1.2488 - accuracy: 0.5896\n"
     ]
    }
   ],
   "source": [
    "\n",
    "val_loss_edge, val_accuracy_edge = model.evaluate(X_val_edge, y_val_edge)"
   ]
  },
  {
   "cell_type": "code",
   "execution_count": 61,
   "metadata": {},
   "outputs": [
    {
     "name": "stdout",
     "output_type": "stream",
     "text": [
      "val acc: 0.6735751256732743\n"
     ]
    }
   ],
   "source": [
    "edge_acc = np.array(y_val[edge_count_val < 800000] == 1).mean() * 8\n",
    "small = y_val[edge_count_val < 800000].shape[0]\n",
    "big = y_val[edge_count_val >= 800000].shape[0]\n",
    "val_accuracy = val_accuracy_edge * big / (small + big) + edge_acc * small / (small + big)\n",
    "\n",
    "print(\"val acc: \" + str(val_accuracy))"
   ]
  },
  {
   "cell_type": "code",
   "execution_count": 62,
   "metadata": {},
   "outputs": [
    {
     "data": {
      "text/plain": [
       "<tf.Tensor: shape=(551, 8), dtype=float32, numpy=\n",
       "array([[0., 1., 0., ..., 0., 0., 0.],\n",
       "       [0., 1., 0., ..., 0., 0., 0.],\n",
       "       [0., 1., 0., ..., 0., 0., 0.],\n",
       "       ...,\n",
       "       [0., 1., 0., ..., 0., 0., 0.],\n",
       "       [0., 1., 0., ..., 0., 0., 0.],\n",
       "       [0., 1., 0., ..., 0., 0., 0.]], dtype=float32)>"
      ]
     },
     "execution_count": 62,
     "metadata": {},
     "output_type": "execute_result"
    }
   ],
   "source": [
    "y_train[edge_count_train < 800000]"
   ]
  },
  {
   "cell_type": "code",
   "execution_count": 65,
   "metadata": {},
   "outputs": [
    {
     "data": {
      "image/png": "[encoded data removed]",
      "text/plain": [
       "<Figure size 1000x500 with 1 Axes>"
      ]
     },
     "metadata": {},
     "output_type": "display_data"
    },
    {
     "data": {
      "image/png": "[encoded data removed]",
      "text/plain": [
       "<Figure size 1000x500 with 1 Axes>"
      ]
     },
     "metadata": {},
     "output_type": "display_data"
    }
   ],
   "source": [
    "\n",
    "# test_loss, test_accuracy = cnn.evaluate(X_test, y_test)\n",
    "\n",
    "# print(\"test acc: \" + str(test_accuracy))\n",
    "\n",
    "# cnn.save('low_cnn.keras')\n",
    "\n",
    "training_acc = history.history[\"accuracy\"]\n",
    "training_loss = history.history[\"loss\"]\n",
    "validation_acc = history.history[\"val_accuracy\"]\n",
    "validation_loss = history.history[\"val_loss\"]\n",
    "\n",
    "plt.figure(figsize=(10,5))\n",
    "plt.plot(training_acc, label=\"Training Accuracy\")\n",
    "plt.plot(validation_acc, label=\"Validation Accuracy\")\n",
    "plt.title(\"Training and Validation Accuracy\")\n",
    "plt.xlabel(\"Epoch\")\n",
    "plt.ylabel(\"Accuracy\")\n",
    "plt.legend()\n",
    "plt.show()\n",
    "\n",
    "\n",
    "plt.figure(figsize=(10,5))\n",
    "plt.plot(training_loss, label=\"Training Loss\")\n",
    "plt.plot(validation_loss, label=\"Validation Loss\")\n",
    "plt.title(\"Training and Validation Loss\")\n",
    "plt.xlabel(\"Epoch\")\n",
    "plt.ylabel(\"Accuracy\")\n",
    "plt.legend()\n",
    "plt.show()\n",
    "\n"
   ]
  },
  {
   "cell_type": "code",
   "execution_count": 66,
   "metadata": {},
   "outputs": [
    {
     "name": "stderr",
     "output_type": "stream",
     "text": [
      "3889it [00:04, 818.38it/s]\n",
      "100%|██████████| 3113/3113 [00:00<00:00, 6370.50it/s]\n",
      "100%|██████████| 386/386 [00:00<00:00, 5913.45it/s]\n",
      "100%|██████████| 390/390 [00:00<00:00, 6297.92it/s]\n"
     ]
    }
   ],
   "source": [
    "y, train, val, test = util.get_labels_and_split()\n",
    "\n",
    "y_train, y_val, y_test = y[train], y[val], y[test]\n",
    "\n",
    "y_train = tf.one_hot(y_train, depth=8)\n",
    "y_val   = tf.one_hot(y_val,   depth=8)\n",
    "y_test  = tf.one_hot(y_test,  depth=8)\n",
    "\n",
    "low_res = util.get_low_res()\n",
    "# low_res = np.load('low_res.npy')\n",
    "\n",
    "# low_res.reshape(low_res.shape[0], -1)\n",
    "\n",
    "X_train = low_res[train]\n",
    "X_val = low_res[val]\n",
    "X_test = low_res[test]\n",
    "\n",
    "edge_count_train = []\n",
    "\n",
    "for i in tqdm(range(X_train.shape[0])):\n",
    "    gray_image = cv2.cvtColor(X_train[i,:,:,:], cv2.COLOR_BGR2GRAY)\n",
    "    blurred = cv2.GaussianBlur(gray_image, (1, 1), 0)\n",
    "    edges = cv2.Canny(blurred, 10, 20)\n",
    "    edge_count_train.append(edges.sum())\n",
    "\n",
    "edge_count_train = np.array(edge_count_train)\n",
    "\n",
    "edge_count_val = []\n",
    "\n",
    "for i in tqdm(range(X_val.shape[0])):\n",
    "    gray_image = cv2.cvtColor(X_val[i,:,:,:], cv2.COLOR_BGR2GRAY)\n",
    "    blurred = cv2.GaussianBlur(gray_image, (1, 1), 0)\n",
    "    edges = cv2.Canny(blurred, 10, 20)\n",
    "    edge_count_val.append(edges.sum())\n",
    "\n",
    "edge_count_val = np.array(edge_count_val)\n",
    "\n",
    "edge_count_test = []\n",
    "\n",
    "for i in tqdm(range(X_test.shape[0])):\n",
    "    gray_image = cv2.cvtColor(X_test[i,:,:,:], cv2.COLOR_BGR2GRAY)\n",
    "    blurred = cv2.GaussianBlur(gray_image, (1, 1), 0)\n",
    "    edges = cv2.Canny(blurred, 10, 20)\n",
    "    edge_count_test.append(edges.sum())\n",
    "\n",
    "edge_count_test = np.array(edge_count_test)\n",
    "\n",
    "X_train_edge = X_train[edge_count_train > 800000]\n",
    "y_train_edge = y_train[edge_count_train > 800000]\n",
    "X_val_edge = X_val[edge_count_val > 800000]\n",
    "y_val_edge = y_val[edge_count_val > 800000]\n",
    "X_test_edge = X_test[edge_count_test > 800000]\n",
    "y_test_edge = y_test[edge_count_test > 800000]"
   ]
  },
  {
   "cell_type": "code",
   "execution_count": 67,
   "metadata": {},
   "outputs": [
    {
     "name": "stdout",
     "output_type": "stream",
     "text": [
      "10/10 [==============================] - 12s 1s/step - loss: 1.2488 - accuracy: 0.5896\n",
      "unaugmented val acc: 0.6735751256732743\n",
      "10/10 [==============================] - 11s 1s/step - loss: 1.3649 - accuracy: 0.6026\n",
      "unaugmented test acc: 0.6871794998645783\n"
     ]
    }
   ],
   "source": [
    "val_loss_edge, val_accuracy_edge = model.evaluate(X_val_edge, y_val_edge)\n",
    "\n",
    "edge_acc = np.array(y_val[edge_count_val < 800000] == 1).mean() * 8\n",
    "small = y_val[edge_count_val < 800000].shape[0]\n",
    "big = y_val[edge_count_val >= 800000].shape[0]\n",
    "val_accuracy = val_accuracy_edge * big / (small + big) + edge_acc * small / (small + big)\n",
    "\n",
    "print(\"unaugmented val acc: \" + str(val_accuracy))\n",
    "\n",
    "test_loss_edge, test_accuracy_edge = model.evaluate(X_test_edge, y_test_edge)\n",
    "\n",
    "edge_acc = np.array(y_test[edge_count_test < 800000] == 1).mean() * 8\n",
    "small = y_test[edge_count_test < 800000].shape[0]\n",
    "big = y_test[edge_count_test >= 800000].shape[0]\n",
    "test_accuracy = test_accuracy_edge * big / (small + big) + edge_acc * small / (small + big)\n",
    "\n",
    "print(\"unaugmented test acc: \" + str(test_accuracy))"
   ]
  },
  {
   "cell_type": "code",
   "execution_count": 68,
   "metadata": {},
   "outputs": [
    {
     "name": "stdout",
     "output_type": "stream",
     "text": [
      "10/10 [==============================] - 13s 1s/step\n"
     ]
    },
    {
     "data": {
      "text/plain": [
       "<tf.Tensor: shape=(2455,), dtype=float32, numpy=array([0., 1., 0., ..., 0., 0., 0.], dtype=float32)>"
      ]
     },
     "execution_count": 68,
     "metadata": {},
     "output_type": "execute_result"
    }
   ],
   "source": [
    "y_test_edge[model.predict(X_test_edge) != y_test_edge]"
   ]
  },
  {
   "cell_type": "code",
   "execution_count": 70,
   "metadata": {},
   "outputs": [
    {
     "data": {
      "text/plain": [
       "array([False, False,  True,  True,  True,  True,  True,  True, False,\n",
       "        True,  True,  True,  True,  True,  True,  True,  True,  True,\n",
       "        True,  True,  True, False, False,  True, False, False, False,\n",
       "       False, False, False, False, False,  True,  True, False, False,\n",
       "       False, False, False, False,  True, False, False, False, False,\n",
       "       False, False, False, False, False, False, False, False,  True,\n",
       "       False,  True,  True,  True,  True, False, False,  True,  True,\n",
       "        True,  True,  True,  True,  True, False,  True,  True, False,\n",
       "        True, False,  True,  True,  True,  True,  True,  True,  True,\n",
       "        True,  True,  True,  True, False,  True,  True,  True,  True,\n",
       "        True,  True,  True,  True,  True,  True, False,  True, False,\n",
       "       False,  True,  True,  True, False,  True,  True,  True,  True,\n",
       "        True,  True,  True, False,  True,  True,  True,  True,  True,\n",
       "       False,  True,  True, False,  True, False,  True,  True,  True,\n",
       "        True,  True,  True, False,  True,  True,  True,  True,  True,\n",
       "        True, False, False,  True,  True,  True,  True, False, False,\n",
       "       False,  True,  True, False, False, False,  True,  True,  True,\n",
       "        True,  True,  True,  True, False,  True,  True,  True,  True,\n",
       "        True,  True,  True,  True, False,  True,  True,  True,  True,\n",
       "       False,  True,  True, False,  True,  True,  True,  True,  True,\n",
       "        True, False, False,  True,  True, False,  True,  True,  True,\n",
       "        True,  True, False,  True,  True,  True,  True,  True,  True,\n",
       "        True,  True,  True,  True,  True,  True,  True,  True,  True,\n",
       "        True,  True,  True,  True,  True, False,  True,  True,  True,\n",
       "        True,  True,  True,  True, False, False,  True,  True, False,\n",
       "        True,  True,  True,  True,  True,  True, False, False,  True,\n",
       "        True,  True,  True,  True,  True, False,  True,  True,  True,\n",
       "        True,  True,  True,  True,  True,  True,  True,  True,  True,\n",
       "       False,  True,  True,  True,  True,  True,  True, False,  True,\n",
       "        True,  True,  True, False,  True,  True,  True, False, False,\n",
       "        True,  True,  True,  True,  True,  True, False,  True,  True,\n",
       "        True,  True,  True,  True,  True,  True,  True,  True,  True,\n",
       "        True,  True, False,  True,  True,  True,  True,  True,  True,\n",
       "        True,  True,  True, False, False,  True,  True,  True,  True,\n",
       "        True,  True,  True,  True,  True,  True,  True,  True,  True,\n",
       "        True,  True,  True,  True,  True,  True,  True,  True,  True,\n",
       "        True,  True,  True,  True,  True,  True, False,  True,  True,\n",
       "       False,  True,  True,  True,  True,  True,  True,  True, False,\n",
       "        True,  True,  True,  True,  True,  True,  True,  True,  True,\n",
       "        True, False,  True,  True,  True,  True,  True,  True,  True,\n",
       "        True,  True,  True,  True,  True,  True,  True,  True,  True,\n",
       "        True,  True,  True,  True,  True,  True,  True,  True,  True,\n",
       "        True,  True,  True,  True,  True,  True,  True,  True,  True,\n",
       "        True,  True,  True])"
      ]
     },
     "execution_count": 70,
     "metadata": {},
     "output_type": "execute_result"
    }
   ],
   "source": [
    "edge_count_test > 800000"
   ]
  },
  {
   "cell_type": "code",
   "execution_count": 73,
   "metadata": {},
   "outputs": [
    {
     "data": {
      "text/plain": [
       "Amnesty POI-10-2-1    True\n",
       "Amnesty POI-10-3-3    True\n",
       "Amnesty POI-17-2-3    True\n",
       "Amnesty POI-5-3-2     True\n",
       "Amnesty POI-16-2-1    True\n",
       "                      ... \n",
       "UNHCR-NGAs037221      True\n",
       "UNHCR-SOMs027976      True\n",
       "UNHCR-SDNs015653      True\n",
       "UNHCR-DJIs000145      True\n",
       "UNHCR-SDNs015669      True\n",
       "Name: split, Length: 390, dtype: bool"
      ]
     },
     "execution_count": 73,
     "metadata": {},
     "output_type": "execute_result"
    }
   ],
   "source": [
    "test[test]"
   ]
  },
  {
   "cell_type": "code",
   "execution_count": 74,
   "metadata": {},
   "outputs": [],
   "source": [
    "model.save(\"Final_Model.h5\")"
   ]
  },
  {
   "cell_type": "code",
   "execution_count": null,
   "metadata": {},
   "outputs": [],
   "source": []
  }
 ],
 "metadata": {
  "kernelspec": {
   "display_name": "cs229",
   "language": "python",
   "name": "python3"
  },
  "language_info": {
   "codemirror_mode": {
    "name": "ipython",
    "version": 3
   },
   "file_extension": ".py",
   "mimetype": "text/x-python",
   "name": "python",
   "nbconvert_exporter": "python",
   "pygments_lexer": "ipython3",
   "version": "3.9.15"
  }
 },
 "nbformat": 4,
 "nbformat_minor": 2
}

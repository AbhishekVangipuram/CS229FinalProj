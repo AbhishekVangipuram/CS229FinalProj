{
 "cells": [
  {
   "cell_type": "code",
   "execution_count": 17,
   "metadata": {},
   "outputs": [],
   "source": [
    "import util"
   ]
  },
  {
   "cell_type": "code",
   "execution_count": 2,
   "metadata": {},
   "outputs": [],
   "source": [
    "import pandas as pd\n",
    "from PIL import Image\n",
    "import numpy as np\n",
    "import cv2\n",
    "import matplotlib.pyplot as plt"
   ]
  },
  {
   "cell_type": "code",
   "execution_count": 6,
   "metadata": {},
   "outputs": [
    {
     "data": {
      "text/html": [
       "<div>\n",
       "<style scoped>\n",
       "    .dataframe tbody tr th:only-of-type {\n",
       "        vertical-align: middle;\n",
       "    }\n",
       "\n",
       "    .dataframe tbody tr th {\n",
       "        vertical-align: top;\n",
       "    }\n",
       "\n",
       "    .dataframe thead th {\n",
       "        text-align: right;\n",
       "    }\n",
       "</style>\n",
       "<table border=\"1\" class=\"dataframe\">\n",
       "  <thead>\n",
       "    <tr style=\"text-align: right;\">\n",
       "      <th></th>\n",
       "      <th>n</th>\n",
       "      <th>bounds</th>\n",
       "      <th>lowres_date</th>\n",
       "      <th>highres_date</th>\n",
       "      <th>area</th>\n",
       "      <th>cloud_cover</th>\n",
       "      <th>delta</th>\n",
       "      <th>lon</th>\n",
       "      <th>lat</th>\n",
       "      <th>LCCS</th>\n",
       "      <th>SMOD</th>\n",
       "      <th>IPCC Class</th>\n",
       "      <th>LCCS class</th>\n",
       "      <th>SMOD Class</th>\n",
       "    </tr>\n",
       "  </thead>\n",
       "  <tbody>\n",
       "    <tr>\n",
       "      <th>Amnesty POI-10-1-1</th>\n",
       "      <td>1</td>\n",
       "      <td>[105.84161265950597, 13.147748954631947, 105.8...</td>\n",
       "      <td>2019-01-06</td>\n",
       "      <td>2019-01-27</td>\n",
       "      <td>2.5</td>\n",
       "      <td>0.06</td>\n",
       "      <td>-21</td>\n",
       "      <td>105.848905</td>\n",
       "      <td>13.154895</td>\n",
       "      <td>50</td>\n",
       "      <td>11</td>\n",
       "      <td>Forest</td>\n",
       "      <td>Tree cover, broadleaved, evergreen, closed to ...</td>\n",
       "      <td>Rural: Very Low Dens</td>\n",
       "    </tr>\n",
       "    <tr>\n",
       "      <th>Amnesty POI-10-1-2</th>\n",
       "      <td>1</td>\n",
       "      <td>[105.84161265950597, 13.162040839281076, 105.8...</td>\n",
       "      <td>2019-01-06</td>\n",
       "      <td>2019-01-27</td>\n",
       "      <td>2.5</td>\n",
       "      <td>0.06</td>\n",
       "      <td>-21</td>\n",
       "      <td>105.848905</td>\n",
       "      <td>13.169187</td>\n",
       "      <td>50</td>\n",
       "      <td>11</td>\n",
       "      <td>Forest</td>\n",
       "      <td>Tree cover, broadleaved, evergreen, closed to ...</td>\n",
       "      <td>Rural: Very Low Dens</td>\n",
       "    </tr>\n",
       "    <tr>\n",
       "      <th>Amnesty POI-10-1-3</th>\n",
       "      <td>1</td>\n",
       "      <td>[105.84161265950597, 13.176332723930203, 105.8...</td>\n",
       "      <td>2019-01-06</td>\n",
       "      <td>2019-01-27</td>\n",
       "      <td>2.5</td>\n",
       "      <td>0.06</td>\n",
       "      <td>-21</td>\n",
       "      <td>105.848905</td>\n",
       "      <td>13.183479</td>\n",
       "      <td>50</td>\n",
       "      <td>11</td>\n",
       "      <td>Forest</td>\n",
       "      <td>Tree cover, broadleaved, evergreen, closed to ...</td>\n",
       "      <td>Rural: Very Low Dens</td>\n",
       "    </tr>\n",
       "    <tr>\n",
       "      <th>Amnesty POI-10-2-1</th>\n",
       "      <td>1</td>\n",
       "      <td>[105.8561973580532, 13.147748954631947, 105.87...</td>\n",
       "      <td>2019-01-06</td>\n",
       "      <td>2019-01-27</td>\n",
       "      <td>2.5</td>\n",
       "      <td>0.06</td>\n",
       "      <td>-21</td>\n",
       "      <td>105.863490</td>\n",
       "      <td>13.154895</td>\n",
       "      <td>50</td>\n",
       "      <td>11</td>\n",
       "      <td>Forest</td>\n",
       "      <td>Tree cover, broadleaved, evergreen, closed to ...</td>\n",
       "      <td>Rural: Very Low Dens</td>\n",
       "    </tr>\n",
       "    <tr>\n",
       "      <th>Amnesty POI-10-2-2</th>\n",
       "      <td>1</td>\n",
       "      <td>[105.8561973580532, 13.162040839281076, 105.87...</td>\n",
       "      <td>2019-01-06</td>\n",
       "      <td>2019-01-27</td>\n",
       "      <td>2.5</td>\n",
       "      <td>0.06</td>\n",
       "      <td>-21</td>\n",
       "      <td>105.863490</td>\n",
       "      <td>13.169187</td>\n",
       "      <td>50</td>\n",
       "      <td>11</td>\n",
       "      <td>Forest</td>\n",
       "      <td>Tree cover, broadleaved, evergreen, closed to ...</td>\n",
       "      <td>Rural: Very Low Dens</td>\n",
       "    </tr>\n",
       "    <tr>\n",
       "      <th>...</th>\n",
       "      <td>...</td>\n",
       "      <td>...</td>\n",
       "      <td>...</td>\n",
       "      <td>...</td>\n",
       "      <td>...</td>\n",
       "      <td>...</td>\n",
       "      <td>...</td>\n",
       "      <td>...</td>\n",
       "      <td>...</td>\n",
       "      <td>...</td>\n",
       "      <td>...</td>\n",
       "      <td>...</td>\n",
       "      <td>...</td>\n",
       "      <td>...</td>\n",
       "    </tr>\n",
       "    <tr>\n",
       "      <th>UNHCR-NGAs035354</th>\n",
       "      <td>1</td>\n",
       "      <td>[13.778820599146073, 11.218193050313346, 13.79...</td>\n",
       "      <td>2017-11-05</td>\n",
       "      <td>2017-11-08</td>\n",
       "      <td>2.5</td>\n",
       "      <td>0.00</td>\n",
       "      <td>-3</td>\n",
       "      <td>13.786060</td>\n",
       "      <td>11.225340</td>\n",
       "      <td>190</td>\n",
       "      <td>11</td>\n",
       "      <td>Settlement</td>\n",
       "      <td>Urban areas</td>\n",
       "      <td>Rural: Very Low Dens</td>\n",
       "    </tr>\n",
       "    <tr>\n",
       "      <th>UNHCR-MMRs035425</th>\n",
       "      <td>1</td>\n",
       "      <td>[93.47666334949932, 20.0770397931716, 93.49178...</td>\n",
       "      <td>2021-04-18</td>\n",
       "      <td>2021-04-18</td>\n",
       "      <td>2.5</td>\n",
       "      <td>0.31</td>\n",
       "      <td>0</td>\n",
       "      <td>93.484222</td>\n",
       "      <td>20.084181</td>\n",
       "      <td>40</td>\n",
       "      <td>11</td>\n",
       "      <td>Agriculture</td>\n",
       "      <td>Mosaic natural vegetation (tree, shrub, herbac...</td>\n",
       "      <td>Rural: Very Low Dens</td>\n",
       "    </tr>\n",
       "    <tr>\n",
       "      <th>UNHCR-CMRs004018</th>\n",
       "      <td>1</td>\n",
       "      <td>[14.592949197448435, 6.726291317447426, 14.607...</td>\n",
       "      <td>2019-12-05</td>\n",
       "      <td>2019-12-10</td>\n",
       "      <td>2.5</td>\n",
       "      <td>0.00</td>\n",
       "      <td>-5</td>\n",
       "      <td>14.600100</td>\n",
       "      <td>6.733440</td>\n",
       "      <td>62</td>\n",
       "      <td>11</td>\n",
       "      <td>Forest</td>\n",
       "      <td>Tree cover, broadleaved, deciduous, open (15‐40%)</td>\n",
       "      <td>Rural: Very Low Dens</td>\n",
       "    </tr>\n",
       "    <tr>\n",
       "      <th>UNHCR-CMRs004005</th>\n",
       "      <td>1</td>\n",
       "      <td>[14.942548959144071, 6.742551322195224, 14.956...</td>\n",
       "      <td>2018-12-10</td>\n",
       "      <td>2018-10-20</td>\n",
       "      <td>2.5</td>\n",
       "      <td>0.00</td>\n",
       "      <td>51</td>\n",
       "      <td>14.949700</td>\n",
       "      <td>6.749700</td>\n",
       "      <td>190</td>\n",
       "      <td>23</td>\n",
       "      <td>Settlement</td>\n",
       "      <td>Urban areas</td>\n",
       "      <td>Urban: Dense</td>\n",
       "    </tr>\n",
       "    <tr>\n",
       "      <th>UNHCR-BRAs003173</th>\n",
       "      <td>1</td>\n",
       "      <td>[-41.973930307054175, -12.04047654642226, -41....</td>\n",
       "      <td>2018-09-29</td>\n",
       "      <td>2018-09-23</td>\n",
       "      <td>2.5</td>\n",
       "      <td>0.00</td>\n",
       "      <td>6</td>\n",
       "      <td>-41.966670</td>\n",
       "      <td>-12.033330</td>\n",
       "      <td>120</td>\n",
       "      <td>11</td>\n",
       "      <td>Other</td>\n",
       "      <td>Shrubland</td>\n",
       "      <td>Rural: Very Low Dens</td>\n",
       "    </tr>\n",
       "  </tbody>\n",
       "</table>\n",
       "<p>3928 rows × 14 columns</p>\n",
       "</div>"
      ],
      "text/plain": [
       "                    n                                             bounds  \\\n",
       "Amnesty POI-10-1-1  1  [105.84161265950597, 13.147748954631947, 105.8...   \n",
       "Amnesty POI-10-1-2  1  [105.84161265950597, 13.162040839281076, 105.8...   \n",
       "Amnesty POI-10-1-3  1  [105.84161265950597, 13.176332723930203, 105.8...   \n",
       "Amnesty POI-10-2-1  1  [105.8561973580532, 13.147748954631947, 105.87...   \n",
       "Amnesty POI-10-2-2  1  [105.8561973580532, 13.162040839281076, 105.87...   \n",
       "...                ..                                                ...   \n",
       "UNHCR-NGAs035354    1  [13.778820599146073, 11.218193050313346, 13.79...   \n",
       "UNHCR-MMRs035425    1  [93.47666334949932, 20.0770397931716, 93.49178...   \n",
       "UNHCR-CMRs004018    1  [14.592949197448435, 6.726291317447426, 14.607...   \n",
       "UNHCR-CMRs004005    1  [14.942548959144071, 6.742551322195224, 14.956...   \n",
       "UNHCR-BRAs003173    1  [-41.973930307054175, -12.04047654642226, -41....   \n",
       "\n",
       "                   lowres_date highres_date  area  cloud_cover  delta  \\\n",
       "Amnesty POI-10-1-1  2019-01-06   2019-01-27   2.5         0.06    -21   \n",
       "Amnesty POI-10-1-2  2019-01-06   2019-01-27   2.5         0.06    -21   \n",
       "Amnesty POI-10-1-3  2019-01-06   2019-01-27   2.5         0.06    -21   \n",
       "Amnesty POI-10-2-1  2019-01-06   2019-01-27   2.5         0.06    -21   \n",
       "Amnesty POI-10-2-2  2019-01-06   2019-01-27   2.5         0.06    -21   \n",
       "...                        ...          ...   ...          ...    ...   \n",
       "UNHCR-NGAs035354    2017-11-05   2017-11-08   2.5         0.00     -3   \n",
       "UNHCR-MMRs035425    2021-04-18   2021-04-18   2.5         0.31      0   \n",
       "UNHCR-CMRs004018    2019-12-05   2019-12-10   2.5         0.00     -5   \n",
       "UNHCR-CMRs004005    2018-12-10   2018-10-20   2.5         0.00     51   \n",
       "UNHCR-BRAs003173    2018-09-29   2018-09-23   2.5         0.00      6   \n",
       "\n",
       "                           lon        lat  LCCS  SMOD   IPCC Class  \\\n",
       "Amnesty POI-10-1-1  105.848905  13.154895    50    11       Forest   \n",
       "Amnesty POI-10-1-2  105.848905  13.169187    50    11       Forest   \n",
       "Amnesty POI-10-1-3  105.848905  13.183479    50    11       Forest   \n",
       "Amnesty POI-10-2-1  105.863490  13.154895    50    11       Forest   \n",
       "Amnesty POI-10-2-2  105.863490  13.169187    50    11       Forest   \n",
       "...                        ...        ...   ...   ...          ...   \n",
       "UNHCR-NGAs035354     13.786060  11.225340   190    11   Settlement   \n",
       "UNHCR-MMRs035425     93.484222  20.084181    40    11  Agriculture   \n",
       "UNHCR-CMRs004018     14.600100   6.733440    62    11       Forest   \n",
       "UNHCR-CMRs004005     14.949700   6.749700   190    23   Settlement   \n",
       "UNHCR-BRAs003173    -41.966670 -12.033330   120    11        Other   \n",
       "\n",
       "                                                           LCCS class  \\\n",
       "Amnesty POI-10-1-1  Tree cover, broadleaved, evergreen, closed to ...   \n",
       "Amnesty POI-10-1-2  Tree cover, broadleaved, evergreen, closed to ...   \n",
       "Amnesty POI-10-1-3  Tree cover, broadleaved, evergreen, closed to ...   \n",
       "Amnesty POI-10-2-1  Tree cover, broadleaved, evergreen, closed to ...   \n",
       "Amnesty POI-10-2-2  Tree cover, broadleaved, evergreen, closed to ...   \n",
       "...                                                               ...   \n",
       "UNHCR-NGAs035354                                          Urban areas   \n",
       "UNHCR-MMRs035425    Mosaic natural vegetation (tree, shrub, herbac...   \n",
       "UNHCR-CMRs004018    Tree cover, broadleaved, deciduous, open (15‐40%)   \n",
       "UNHCR-CMRs004005                                          Urban areas   \n",
       "UNHCR-BRAs003173                                            Shrubland   \n",
       "\n",
       "                              SMOD Class  \n",
       "Amnesty POI-10-1-1  Rural: Very Low Dens  \n",
       "Amnesty POI-10-1-2  Rural: Very Low Dens  \n",
       "Amnesty POI-10-1-3  Rural: Very Low Dens  \n",
       "Amnesty POI-10-2-1  Rural: Very Low Dens  \n",
       "Amnesty POI-10-2-2  Rural: Very Low Dens  \n",
       "...                                  ...  \n",
       "UNHCR-NGAs035354    Rural: Very Low Dens  \n",
       "UNHCR-MMRs035425    Rural: Very Low Dens  \n",
       "UNHCR-CMRs004018    Rural: Very Low Dens  \n",
       "UNHCR-CMRs004005            Urban: Dense  \n",
       "UNHCR-BRAs003173    Rural: Very Low Dens  \n",
       "\n",
       "[3928 rows x 14 columns]"
      ]
     },
     "execution_count": 6,
     "metadata": {},
     "output_type": "execute_result"
    }
   ],
   "source": [
    "df = pd.read_csv(\"WorldStrat Dataset.csv\", index_col=0).loc[~df.index.duplicated(keep='first')]\n",
    "df"
   ]
  },
  {
   "cell_type": "code",
   "execution_count": 16,
   "metadata": {},
   "outputs": [
    {
     "data": {
      "text/plain": [
       "<AxesSubplot: >"
      ]
     },
     "execution_count": 16,
     "metadata": {},
     "output_type": "execute_result"
    },
    {
     "data": {
      "image/png": "[encoded data removed]",
      "text/plain": [
       "<Figure size 640x480 with 1 Axes>"
      ]
     },
     "metadata": {},
     "output_type": "display_data"
    }
   ],
   "source": [
    "df[\"SMOD Class\"].value_counts().reindex(['Water', 'Rural: Very Low Dens', 'Rural: Low Dens', 'Rural: cluster', 'Urban: Suburban', \n",
    "                                            'Urban: Semi-dense', 'Urban: Dense', 'Urban: Centre']).plot(kind='bar')"
   ]
  },
  {
   "cell_type": "code",
   "execution_count": 18,
   "metadata": {},
   "outputs": [],
   "source": [
    "high_res = np.load(\"high_res.npy\")"
   ]
  },
  {
   "cell_type": "code",
   "execution_count": 19,
   "metadata": {},
   "outputs": [],
   "source": [
    "y, train, val, test = util.get_labels_and_split()\n",
    "y_train, y_val, y_test = y[train], y[val], y[test]"
   ]
  },
  {
   "cell_type": "code",
   "execution_count": 20,
   "metadata": {},
   "outputs": [
    {
     "data": {
      "text/plain": [
       "array([[[ 0.        ,  0.        ,  0.        ],\n",
       "        [ 0.        ,  0.        ,  0.        ],\n",
       "        [ 0.        ,  0.        ,  0.        ],\n",
       "        ...,\n",
       "        [10.78652751, 12.71821632,  9.96110057],\n",
       "        [10.70967742, 12.60721063,  9.86907021],\n",
       "        [10.67457306, 12.58254269,  9.87001898]],\n",
       "\n",
       "       [[ 0.        ,  0.        ,  0.        ],\n",
       "        [ 0.        ,  0.        ,  0.        ],\n",
       "        [ 0.        ,  0.        ,  0.        ],\n",
       "        ...,\n",
       "        [ 4.37286528,  6.24573055,  4.20208729],\n",
       "        [ 4.31024668,  6.16223909,  4.14136622],\n",
       "        [ 4.16888046,  5.94497154,  4.0028463 ]],\n",
       "\n",
       "       [[ 0.        ,  0.        ,  0.        ],\n",
       "        [ 0.        ,  0.        ,  0.        ],\n",
       "        [ 0.        ,  0.        ,  0.        ],\n",
       "        ...,\n",
       "        [ 4.07590133,  6.17077799,  4.11385199],\n",
       "        [ 4.02751423,  6.07590133,  4.0426945 ],\n",
       "        [ 3.99525617,  6.03889943,  4.01518027]],\n",
       "\n",
       "       ...,\n",
       "\n",
       "       [[ 0.        ,  0.        ,  0.        ],\n",
       "        [ 0.        ,  0.        ,  0.        ],\n",
       "        [ 0.        ,  0.        ,  0.        ],\n",
       "        ...,\n",
       "        [80.67552182, 82.05502846, 85.32068311],\n",
       "        [78.91840607, 80.29886148, 83.40702087],\n",
       "        [77.78273245, 78.19259962, 81.91081594]],\n",
       "\n",
       "       [[ 0.        ,  0.        ,  0.        ],\n",
       "        [ 0.        ,  0.        ,  0.        ],\n",
       "        [ 0.        ,  0.        ,  0.        ],\n",
       "        ...,\n",
       "        [12.34629981, 12.58444023, 11.08444023],\n",
       "        [12.21631879, 12.45825427, 10.9601518 ],\n",
       "        [12.06451613, 12.28747628, 10.84060721]],\n",
       "\n",
       "       [[ 0.        ,  0.        ,  0.        ],\n",
       "        [ 0.        ,  0.        ,  0.        ],\n",
       "        [ 0.        ,  0.        ,  0.        ],\n",
       "        ...,\n",
       "        [14.98197343, 12.89278937, 10.37855787],\n",
       "        [ 5.21821632,  4.37855787,  3.39753321],\n",
       "        [ 0.        ,  0.        ,  0.        ]]])"
      ]
     },
     "execution_count": 20,
     "metadata": {},
     "output_type": "execute_result"
    }
   ],
   "source": [
    "high_res_mean = high_res.mean(axis=1)\n",
    "high_res_mean"
   ]
  },
  {
   "cell_type": "code",
   "execution_count": 21,
   "metadata": {},
   "outputs": [
    {
     "data": {
      "text/plain": [
       "array([[ 6.62690608,  8.66669307,  6.21661944],\n",
       "       [ 4.37977939,  6.35173586,  4.28373072],\n",
       "       [ 3.9071694 ,  5.97499631,  4.00947686],\n",
       "       ...,\n",
       "       [74.74038721, 75.41409071, 74.69526949],\n",
       "       [13.87159515, 13.04177994, 11.2414458 ],\n",
       "       [18.66634021, 15.61855082, 12.01975217]])"
      ]
     },
     "execution_count": 21,
     "metadata": {},
     "output_type": "execute_result"
    }
   ],
   "source": [
    "high_res_mean_real = high_res_mean.mean(axis=1)\n",
    "high_res_mean_real"
   ]
  },
  {
   "cell_type": "code",
   "execution_count": 23,
   "metadata": {},
   "outputs": [],
   "source": [
    "X_train = high_res_mean_real[train]\n",
    "X_val = high_res_mean_real[val]\n",
    "X_test = high_res_mean_real[test]"
   ]
  },
  {
   "cell_type": "code",
   "execution_count": 26,
   "metadata": {},
   "outputs": [
    {
     "data": {
      "text/html": [
       "<style>#sk-container-id-3 {color: black;background-color: white;}#sk-container-id-3 pre{padding: 0;}#sk-container-id-3 div.sk-toggleable {background-color: white;}#sk-container-id-3 label.sk-toggleable__label {cursor: pointer;display: block;width: 100%;margin-bottom: 0;padding: 0.3em;box-sizing: border-box;text-align: center;}#sk-container-id-3 label.sk-toggleable__label-arrow:before {content: \"▸\";float: left;margin-right: 0.25em;color: #696969;}#sk-container-id-3 label.sk-toggleable__label-arrow:hover:before {color: black;}#sk-container-id-3 div.sk-estimator:hover label.sk-toggleable__label-arrow:before {color: black;}#sk-container-id-3 div.sk-toggleable__content {max-height: 0;max-width: 0;overflow: hidden;text-align: left;background-color: #f0f8ff;}#sk-container-id-3 div.sk-toggleable__content pre {margin: 0.2em;color: black;border-radius: 0.25em;background-color: #f0f8ff;}#sk-container-id-3 input.sk-toggleable__control:checked~div.sk-toggleable__content {max-height: 200px;max-width: 100%;overflow: auto;}#sk-container-id-3 input.sk-toggleable__control:checked~label.sk-toggleable__label-arrow:before {content: \"▾\";}#sk-container-id-3 div.sk-estimator input.sk-toggleable__control:checked~label.sk-toggleable__label {background-color: #d4ebff;}#sk-container-id-3 div.sk-label input.sk-toggleable__control:checked~label.sk-toggleable__label {background-color: #d4ebff;}#sk-container-id-3 input.sk-hidden--visually {border: 0;clip: rect(1px 1px 1px 1px);clip: rect(1px, 1px, 1px, 1px);height: 1px;margin: -1px;overflow: hidden;padding: 0;position: absolute;width: 1px;}#sk-container-id-3 div.sk-estimator {font-family: monospace;background-color: #f0f8ff;border: 1px dotted black;border-radius: 0.25em;box-sizing: border-box;margin-bottom: 0.5em;}#sk-container-id-3 div.sk-estimator:hover {background-color: #d4ebff;}#sk-container-id-3 div.sk-parallel-item::after {content: \"\";width: 100%;border-bottom: 1px solid gray;flex-grow: 1;}#sk-container-id-3 div.sk-label:hover label.sk-toggleable__label {background-color: #d4ebff;}#sk-container-id-3 div.sk-serial::before {content: \"\";position: absolute;border-left: 1px solid gray;box-sizing: border-box;top: 0;bottom: 0;left: 50%;z-index: 0;}#sk-container-id-3 div.sk-serial {display: flex;flex-direction: column;align-items: center;background-color: white;padding-right: 0.2em;padding-left: 0.2em;position: relative;}#sk-container-id-3 div.sk-item {position: relative;z-index: 1;}#sk-container-id-3 div.sk-parallel {display: flex;align-items: stretch;justify-content: center;background-color: white;position: relative;}#sk-container-id-3 div.sk-item::before, #sk-container-id-3 div.sk-parallel-item::before {content: \"\";position: absolute;border-left: 1px solid gray;box-sizing: border-box;top: 0;bottom: 0;left: 50%;z-index: -1;}#sk-container-id-3 div.sk-parallel-item {display: flex;flex-direction: column;z-index: 1;position: relative;background-color: white;}#sk-container-id-3 div.sk-parallel-item:first-child::after {align-self: flex-end;width: 50%;}#sk-container-id-3 div.sk-parallel-item:last-child::after {align-self: flex-start;width: 50%;}#sk-container-id-3 div.sk-parallel-item:only-child::after {width: 0;}#sk-container-id-3 div.sk-dashed-wrapped {border: 1px dashed gray;margin: 0 0.4em 0.5em 0.4em;box-sizing: border-box;padding-bottom: 0.4em;background-color: white;}#sk-container-id-3 div.sk-label label {font-family: monospace;font-weight: bold;display: inline-block;line-height: 1.2em;}#sk-container-id-3 div.sk-label-container {text-align: center;}#sk-container-id-3 div.sk-container {/* jupyter's `normalize.less` sets `[hidden] { display: none; }` but bootstrap.min.css set `[hidden] { display: none !important; }` so we also need the `!important` here to be able to override the default hidden behavior on the sphinx rendered scikit-learn.org. See: https://github.com/scikit-learn/scikit-learn/issues/21755 */display: inline-block !important;position: relative;}#sk-container-id-3 div.sk-text-repr-fallback {display: none;}</style><div id=\"sk-container-id-3\" class=\"sk-top-container\"><div class=\"sk-text-repr-fallback\"><pre>LogisticRegression(max_iter=5000, multi_class=&#x27;multinomial&#x27;)</pre><b>In a Jupyter environment, please rerun this cell to show the HTML representation or trust the notebook. <br />On GitHub, the HTML representation is unable to render, please try loading this page with nbviewer.org.</b></div><div class=\"sk-container\" hidden><div class=\"sk-item\"><div class=\"sk-estimator sk-toggleable\"><input class=\"sk-toggleable__control sk-hidden--visually\" id=\"sk-estimator-id-3\" type=\"checkbox\" checked><label for=\"sk-estimator-id-3\" class=\"sk-toggleable__label sk-toggleable__label-arrow\">LogisticRegression</label><div class=\"sk-toggleable__content\"><pre>LogisticRegression(max_iter=5000, multi_class=&#x27;multinomial&#x27;)</pre></div></div></div></div></div>"
      ],
      "text/plain": [
       "LogisticRegression(max_iter=5000, multi_class='multinomial')"
      ]
     },
     "execution_count": 26,
     "metadata": {},
     "output_type": "execute_result"
    }
   ],
   "source": [
    "from sklearn.linear_model import LogisticRegression\n",
    "\n",
    "lr = LogisticRegression(multi_class='multinomial', max_iter=5000)\n",
    "\n",
    "lr.fit(X_train, y_train)"
   ]
  },
  {
   "cell_type": "code",
   "execution_count": 27,
   "metadata": {},
   "outputs": [],
   "source": [
    "predictions = lr.predict(X_val)"
   ]
  },
  {
   "cell_type": "code",
   "execution_count": 29,
   "metadata": {},
   "outputs": [
    {
     "data": {
      "text/plain": [
       "0.5440414507772021"
      ]
     },
     "execution_count": 29,
     "metadata": {},
     "output_type": "execute_result"
    }
   ],
   "source": [
    "(predictions == y_val).mean()"
   ]
  },
  {
   "cell_type": "code",
   "execution_count": 34,
   "metadata": {},
   "outputs": [
    {
     "data": {
      "text/plain": [
       "0.5544041450777202"
      ]
     },
     "execution_count": 34,
     "metadata": {},
     "output_type": "execute_result"
    }
   ],
   "source": [
    "(1 == y_val).mean()"
   ]
  }
 ],
 "metadata": {
  "kernelspec": {
   "display_name": "Python 3",
   "language": "python",
   "name": "python3"
  },
  "language_info": {
   "codemirror_mode": {
    "name": "ipython",
    "version": 3
   },
   "file_extension": ".py",
   "mimetype": "text/x-python",
   "name": "python",
   "nbconvert_exporter": "python",
   "pygments_lexer": "ipython3",
   "version": "3.11.1"
  }
 },
 "nbformat": 4,
 "nbformat_minor": 2
}
